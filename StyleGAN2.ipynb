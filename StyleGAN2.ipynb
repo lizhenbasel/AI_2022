{
  "cells": [
    {
      "cell_type": "markdown",
      "metadata": {
        "id": "view-in-github",
        "colab_type": "text"
      },
      "source": [
        "<a href=\"https://colab.research.google.com/github/lizhenbasel/AI_2022/blob/main/StyleGAN2.ipynb\" target=\"_parent\"><img src=\"https://colab.research.google.com/assets/colab-badge.svg\" alt=\"Open In Colab\"/></a>"
      ]
    },
    {
      "cell_type": "markdown",
      "metadata": {
        "id": "hK13G6MYgkz0"
      },
      "source": [
        "# Setup\n"
      ]
    },
    {
      "cell_type": "code",
      "execution_count": 1,
      "metadata": {
        "colab": {
          "base_uri": "https://localhost:8080/"
        },
        "id": "R15AnMvVKjc_",
        "outputId": "a2d16e7f-8906-443d-a229-5f5a15ccd6c5"
      },
      "outputs": [
        {
          "output_type": "stream",
          "name": "stdout",
          "text": [
            "Mounted at /content/drive\n"
          ]
        }
      ],
      "source": [
        "from google.colab import drive\n",
        "drive.mount('/content/drive')"
      ]
    },
    {
      "cell_type": "code",
      "execution_count": 2,
      "metadata": {
        "colab": {
          "base_uri": "https://localhost:8080/",
          "height": 783
        },
        "id": "OGRjLCg7K1ya",
        "outputId": "648f1689-26e7-45d0-ae03-1a0553770508"
      },
      "outputs": [
        {
          "output_type": "stream",
          "name": "stdout",
          "text": [
            "/content/drive/MyDrive/colab-sg2-ada-pytorch/stylegan2-ada-pytorch\n",
            "Looking in indexes: https://pypi.org/simple, https://us-python.pkg.dev/colab-wheels/public/simple/\n",
            "Collecting ninja\n",
            "  Downloading ninja-1.11.1-py2.py3-none-manylinux_2_12_x86_64.manylinux2010_x86_64.whl (145 kB)\n",
            "\u001b[K     |████████████████████████████████| 145 kB 16.0 MB/s \n",
            "\u001b[?25hCollecting opensimplex\n",
            "  Downloading opensimplex-0.4.3-py3-none-any.whl (19 kB)\n",
            "Collecting torch==1.7.1\n",
            "  Downloading torch-1.7.1-cp38-cp38-manylinux1_x86_64.whl (776.8 MB)\n",
            "\u001b[K     |████████████████████████████████| 776.8 MB 4.8 kB/s \n",
            "\u001b[?25hCollecting torchvision==0.8.2\n",
            "  Downloading torchvision-0.8.2-cp38-cp38-manylinux1_x86_64.whl (12.8 MB)\n",
            "\u001b[K     |████████████████████████████████| 12.8 MB 64.8 MB/s \n",
            "\u001b[?25hRequirement already satisfied: numpy in /usr/local/lib/python3.8/dist-packages (from torch==1.7.1) (1.21.6)\n",
            "Requirement already satisfied: typing-extensions in /usr/local/lib/python3.8/dist-packages (from torch==1.7.1) (4.4.0)\n",
            "Requirement already satisfied: pillow>=4.1.1 in /usr/local/lib/python3.8/dist-packages (from torchvision==0.8.2) (7.1.2)\n",
            "Collecting numpy\n",
            "  Downloading numpy-1.24.0-cp38-cp38-manylinux_2_17_x86_64.manylinux2014_x86_64.whl (17.3 MB)\n",
            "\u001b[K     |████████████████████████████████| 17.3 MB 65.0 MB/s \n",
            "\u001b[?25hInstalling collected packages: numpy, torch, torchvision, opensimplex, ninja\n",
            "  Attempting uninstall: numpy\n",
            "    Found existing installation: numpy 1.21.6\n",
            "    Uninstalling numpy-1.21.6:\n",
            "      Successfully uninstalled numpy-1.21.6\n",
            "  Attempting uninstall: torch\n",
            "    Found existing installation: torch 1.13.0+cu116\n",
            "    Uninstalling torch-1.13.0+cu116:\n",
            "      Successfully uninstalled torch-1.13.0+cu116\n",
            "  Attempting uninstall: torchvision\n",
            "    Found existing installation: torchvision 0.14.0+cu116\n",
            "    Uninstalling torchvision-0.14.0+cu116:\n",
            "      Successfully uninstalled torchvision-0.14.0+cu116\n",
            "\u001b[31mERROR: pip's dependency resolver does not currently take into account all the packages that are installed. This behaviour is the source of the following dependency conflicts.\n",
            "torchtext 0.14.0 requires torch==1.13.0, but you have torch 1.7.1 which is incompatible.\n",
            "torchaudio 0.13.0+cu116 requires torch==1.13.0, but you have torch 1.7.1 which is incompatible.\n",
            "scipy 1.7.3 requires numpy<1.23.0,>=1.16.5, but you have numpy 1.24.0 which is incompatible.\n",
            "numba 0.56.4 requires numpy<1.24,>=1.18, but you have numpy 1.24.0 which is incompatible.\u001b[0m\n",
            "Successfully installed ninja-1.11.1 numpy-1.24.0 opensimplex-0.4.3 torch-1.7.1 torchvision-0.8.2\n"
          ]
        },
        {
          "output_type": "display_data",
          "data": {
            "application/vnd.colab-display-data+json": {
              "pip_warning": {
                "packages": [
                  "numpy"
                ]
              }
            }
          },
          "metadata": {}
        }
      ],
      "source": [
        "import os\n",
        "if os.path.isdir(\"/content/drive/MyDrive/colab-sg2-ada-pytorch\"):\n",
        "    %cd \"/content/drive/MyDrive/colab-sg2-ada-pytorch/stylegan2-ada-pytorch\"\n",
        "elif os.path.isdir(\"/content/drive/\"):\n",
        "    #install script\n",
        "    %cd \"/content/drive/MyDrive/\"\n",
        "    !mkdir colab-sg2-ada-pytorch\n",
        "    %cd colab-sg2-ada-pytorch\n",
        "    !git clone https://github.com/dvschultz/stylegan2-ada-pytorch\n",
        "    %cd stylegan2-ada-pytorch\n",
        "    !mkdir downloads\n",
        "    !mkdir datasets\n",
        "    !mkdir pretrained\n",
        "    !gdown --id 1-5xZkD8ajXw1DdopTkH_rAoCsD72LhKU -O /content/drive/MyDrive/colab-sg2-ada-pytorch/stylegan2-ada-pytorch/pretrained/wikiart.pkl\n",
        "else:\n",
        "    !git clone https://github.com/dvschultz/stylegan2-ada-pytorch\n",
        "    %cd stylegan2-ada-pytorch\n",
        "    !mkdir downloads\n",
        "    !mkdir datasets\n",
        "    !mkdir pretrained\n",
        "    %cd pretrained\n",
        "    !gdown --id 1-5xZkD8ajXw1DdopTkH_rAoCsD72LhKU\n",
        "    %cd ../\n",
        "\n",
        "!pip install ninja opensimplex torch==1.7.1 torchvision==0.8.2"
      ]
    },
    {
      "cell_type": "code",
      "execution_count": 3,
      "metadata": {
        "colab": {
          "base_uri": "https://localhost:8080/"
        },
        "id": "H6sH9JlGWUXH",
        "outputId": "15b82eaa-7d5e-42ab-c594-41e92180b14f"
      },
      "outputs": [
        {
          "output_type": "stream",
          "name": "stdout",
          "text": [
            "/content/drive/My Drive/colab-sg2-ada-pytorch/stylegan2-ada-pytorch\n",
            "Already up to date.\n",
            "Saved working directory and index state WIP on main: 59e05bb added opensimplex\n"
          ]
        }
      ],
      "source": [
        "%cd \"/content/drive/My Drive/colab-sg2-ada-pytorch/stylegan2-ada-pytorch\"\n",
        "!git config --global user.name \"test\"\n",
        "!git config --global user.email \"test@test.com\"\n",
        "!git fetch origin\n",
        "!git pull\n",
        "!git stash\n",
        "!git checkout origin/main -- train.py generate.py legacy.py closed_form_factorization.py flesh_digression.py apply_factor.py README.md calc_metrics.py training/stylegan2_multi.py training/training_loop.py util/utilgan.py"
      ]
    },
    {
      "cell_type": "markdown",
      "metadata": {
        "id": "JafXmMqQgqAU"
      },
      "source": [
        "## Making a dataset"
      ]
    },
    {
      "cell_type": "code",
      "execution_count": 4,
      "metadata": {
        "id": "ycWQQRaUgqmb"
      },
      "outputs": [],
      "source": [
        "export_dir = '/content/drive/MyDrive/SimpleFoods'"
      ]
    },
    {
      "cell_type": "code",
      "execution_count": 5,
      "metadata": {
        "id": "hLJoAm0Vgs97"
      },
      "outputs": [],
      "source": [
        "import errno"
      ]
    },
    {
      "cell_type": "code",
      "execution_count": 6,
      "metadata": {
        "id": "jFnetHftgu6G"
      },
      "outputs": [],
      "source": [
        "# square crop and resize to 512x512\n",
        "\n",
        "import PIL\n",
        "import os\n",
        "import os.path\n",
        "from PIL import Image\n",
        "\n",
        "newsize = (512, 512)\n",
        "\n",
        "square_dir = \"/content/square\"\n",
        "try:\n",
        "    os.makedirs(square_dir)\n",
        "except OSError as e:\n",
        "    if e.errno != errno.EEXIST:\n",
        "        raise\n",
        "\n",
        "def crop_center(pil_img, crop_width, crop_height):\n",
        "    img_width, img_height = pil_img.size\n",
        "    return pil_img.crop(((img_width - crop_width) // 2,\n",
        "                         (img_height - crop_height) // 2,\n",
        "                         (img_width + crop_width) // 2,\n",
        "                         (img_height + crop_height) // 2))\n",
        "\n",
        "def crop_max_square(pil_img):\n",
        "    return crop_center(pil_img, min(pil_img.size), min(pil_img.size))\n",
        "\n",
        "f = export_dir\n",
        "\n",
        "for file in os.listdir(f):\n",
        "    f_img = f+\"/\"+file\n",
        "    im = Image.open(f_img)\n",
        "    \n",
        "    im = im.convert('RGB') # convert to rgb\n",
        "    \n",
        "    \n",
        "    im_square = crop_max_square(im)\n",
        "\n",
        "    im_square = im_square.resize(newsize)\n",
        "\n",
        "    im_square.save(square_dir+\"/\"+file)"
      ]
    },
    {
      "cell_type": "code",
      "execution_count": 7,
      "metadata": {
        "colab": {
          "base_uri": "https://localhost:8080/"
        },
        "id": "-e7lZ4iTgwD6",
        "outputId": "c1215d7b-23d9-4488-8dba-5d508eb91320"
      },
      "outputs": [
        {
          "output_type": "execute_result",
          "data": {
            "text/plain": [
              "True"
            ]
          },
          "metadata": {},
          "execution_count": 7
        }
      ],
      "source": [
        "os.path.isdir('/content/square')"
      ]
    },
    {
      "cell_type": "code",
      "execution_count": 8,
      "metadata": {
        "colab": {
          "base_uri": "https://localhost:8080/",
          "height": 49,
          "referenced_widgets": [
            "07b4dfcbfefe40fc850b17007cda9d6b",
            "fe7f1f4b2adc46ceb7351d84d2f6dd57",
            "36875bd5e14e4a4f9b80abf01ac4ce71",
            "ddcfad2697b3490d96f4855880e9e8d6",
            "6ab6347687ed43bf907954da65543f63",
            "55dba833be0e49cd9e30af6b5c4f8bba",
            "f974f189dade4f489145d73234ae2981",
            "a5043bb33f054284a44bcff1bc7cfad8",
            "4dadff5f15c74b66a7daba4fd76b506f",
            "b1a95613e55740418ae50a453e56b96d",
            "08317e4bd7bc49ecb5c0345daf20b69b"
          ]
        },
        "id": "U0uOgTblgyFS",
        "outputId": "d637930e-7926-4375-aae3-7a6cfd61eeb4"
      },
      "outputs": [
        {
          "output_type": "display_data",
          "data": {
            "text/plain": [
              "  0%|          | 0/509 [00:00<?, ?it/s]"
            ],
            "application/vnd.jupyter.widget-view+json": {
              "version_major": 2,
              "version_minor": 0,
              "model_id": "07b4dfcbfefe40fc850b17007cda9d6b"
            }
          },
          "metadata": {}
        }
      ],
      "source": [
        "# check size and colour format of images\n",
        "from os import listdir\n",
        "from os.path import isfile, join\n",
        "import os\n",
        "from PIL import Image\n",
        "from tqdm.notebook import tqdm\n",
        "\n",
        "IMAGE_PATH = '/content/square'\n",
        "files = [f for f in listdir(IMAGE_PATH) if isfile(join(IMAGE_PATH, f))]\n",
        "\n",
        "base_size = None\n",
        "for file in tqdm(files):\n",
        "  file2 = os.path.join(IMAGE_PATH,file)\n",
        "  img = Image.open(file2)\n",
        "  sz = img.size\n",
        "  if base_size and sz!=base_size:\n",
        "    print(f\"Inconsistant size: {file2}\")\n",
        "  elif img.mode!='RGB':\n",
        "    print(f\"Inconsistant color format: {file2}\")\n",
        "  else:\n",
        "    base_size = sz"
      ]
    },
    {
      "cell_type": "code",
      "execution_count": 9,
      "metadata": {
        "id": "4MBKZ0wGgzYj"
      },
      "outputs": [],
      "source": [
        "# zip folder\n",
        "!zip -r /content/square.zip /content/square > /dev/null"
      ]
    },
    {
      "cell_type": "markdown",
      "metadata": {
        "id": "fMkLaic6g1H9"
      },
      "source": [
        "## IMPORTING THE DATASET"
      ]
    },
    {
      "cell_type": "code",
      "execution_count": 10,
      "metadata": {
        "id": "sGSXyTqvg2nL"
      },
      "outputs": [],
      "source": [
        "import zipfile\n",
        "with zipfile.ZipFile('/content/square.zip') as zip_ref:\n",
        "    zip_ref.extractall('/content/drive/MyDrive/food_square')"
      ]
    },
    {
      "cell_type": "code",
      "execution_count": 11,
      "metadata": {
        "id": "wDsUuuTwg-9k"
      },
      "outputs": [],
      "source": [
        "try:\n",
        "    os.makedirs('./datasets/square_images')\n",
        "except OSError as e:\n",
        "    if e.errno != errno.EEXIST:\n",
        "        raise"
      ]
    },
    {
      "cell_type": "code",
      "execution_count": null,
      "metadata": {
        "colab": {
          "base_uri": "https://localhost:8080/"
        },
        "id": "2k1peOYchAg7",
        "outputId": "9ae19860-310b-44aa-98af-ed7300de5722"
      },
      "outputs": [
        {
          "name": "stdout",
          "output_type": "stream",
          "text": [
            "Error: --dest folder must be empty\n"
          ]
        }
      ],
      "source": [
        "!python /content/drive/MyDrive/colab-sg2-ada-pytorch/stylegan2-ada-pytorch/dataset_tool.py --source /content/square --dest /content/drive/MyDrive/colab-sg2-ada-pytorch/stylegan2-ada-pytorch/datasets/square_images"
      ]
    },
    {
      "cell_type": "code",
      "execution_count": null,
      "metadata": {
        "colab": {
          "base_uri": "https://localhost:8080/"
        },
        "id": "FfxgORnBhC3z",
        "outputId": "ab75d925-7da5-42b8-c919-632989f226a8"
      },
      "outputs": [
        {
          "name": "stdout",
          "output_type": "stream",
          "text": [
            "mv: cannot stat '/content/drive/MyDrive/minecraft-gan-2020-12-22.pkl': No such file or directory\n"
          ]
        }
      ],
      "source": [
        "!mv '/content/drive/MyDrive/minecraft-gan-2020-12-22.pkl' '/content/drive/MyDrive/colab-sg2-ada-pytorch/stylegan2-ada-pytorch/pretrained'"
      ]
    },
    {
      "cell_type": "markdown",
      "metadata": {
        "id": "kmuneYb2hHKe"
      },
      "source": [
        "# Train model\n",
        "Below are a series of variables you need to set to run the training.\n",
        "\n",
        "**dataset_path**: this is the path to your folder\n",
        "\n",
        "**resume_from**: if you’re starting a new dataset I recommend 'ffhq1024' or './pretrained/wikiart.pkl'\n",
        "\n",
        "**mirror_x and mirror_y**: Allow the dataset to use horizontal or vertical mirroring.\n",
        "\n",
        "Make sure you start aug_strength and train_count from zero. Then will then need updating each time you restart the training."
      ]
    },
    {
      "cell_type": "code",
      "execution_count": null,
      "metadata": {
        "id": "_tZFqcmnhI4y"
      },
      "outputs": [],
      "source": [
        "#required: definitely edit these!\n",
        "dataset_path = '/content/drive/MyDrive/colab-sg2-ada-pytorch/stylegan2-ada-pytorch/datasets/square_images/00000'\n",
        "#resume_from = './pretrained/FreaGAN.pkl'\n",
        "#resume_from = './pretrained/wikiart.pkl'\n",
        "#resume_from = './pretrained/2020-01-11-skylion-stylegan2-animeportraits-networksnapshot-024664.pkl'\n",
        "resume_from = './pretrained/minecraft-gan-2020-12-22.pkl'\n",
        "\n",
        "aug_strength = 0.0\n",
        "train_count = 0\n",
        "#ug_strength = 0.502\n",
        "#train_count = 168\n",
        "\n",
        "mirror_x = True\n",
        "#mirror_y = False\n",
        "\n",
        "#optional: you might not need to edit these\n",
        "gamma_value = 50.0\n",
        "augs = 'bg'\n",
        "config = '11gb-gpu'\n",
        "snapshot_count = 1"
      ]
    },
    {
      "cell_type": "code",
      "execution_count": null,
      "metadata": {
        "colab": {
          "background_save": true,
          "base_uri": "https://localhost:8080/"
        },
        "id": "mSGOJH2_pAFl",
        "outputId": "0dbef434-0956-4ec4-ccc3-63f6a4fb5305"
      },
      "outputs": [
        {
          "name": "stdout",
          "output_type": "stream",
          "text": [
            "/usr/local/lib/python3.8/dist-packages/scipy/__init__.py:146: UserWarning: A NumPy version >=1.16.5 and <1.23.0 is required for this version of SciPy (detected version 1.24.0\n",
            "  warnings.warn(f\"A NumPy version >={np_minversion} and <{np_maxversion}\"\n",
            "\n",
            "Training options:\n",
            "{\n",
            "  \"num_gpus\": 1,\n",
            "  \"image_snapshot_ticks\": 1,\n",
            "  \"network_snapshot_ticks\": 1,\n",
            "  \"metrics\": [],\n",
            "  \"random_seed\": 0,\n",
            "  \"training_set_kwargs\": {\n",
            "    \"class_name\": \"training.dataset.ImageFolderDataset\",\n",
            "    \"path\": \"/content/drive/MyDrive/colab-sg2-ada-pytorch/stylegan2-ada-pytorch/datasets/square_images/00000\",\n",
            "    \"use_labels\": false,\n",
            "    \"max_size\": 509,\n",
            "    \"xflip\": true,\n",
            "    \"resolution\": 512\n",
            "  },\n",
            "  \"data_loader_kwargs\": {\n",
            "    \"pin_memory\": true,\n",
            "    \"num_workers\": 3,\n",
            "    \"prefetch_factor\": 2\n",
            "  },\n",
            "  \"G_kwargs\": {\n",
            "    \"class_name\": \"training.networks.Generator\",\n",
            "    \"z_dim\": 512,\n",
            "    \"w_dim\": 512,\n",
            "    \"mapping_kwargs\": {\n",
            "      \"num_layers\": 8\n",
            "    },\n",
            "    \"synthesis_kwargs\": {\n",
            "      \"channel_base\": 32768,\n",
            "      \"channel_max\": 512,\n",
            "      \"num_fp16_res\": 4,\n",
            "      \"conv_clamp\": 256\n",
            "    }\n",
            "  },\n",
            "  \"D_kwargs\": {\n",
            "    \"class_name\": \"training.networks.Discriminator\",\n",
            "    \"block_kwargs\": {},\n",
            "    \"mapping_kwargs\": {},\n",
            "    \"epilogue_kwargs\": {\n",
            "      \"mbstd_group_size\": 4\n",
            "    },\n",
            "    \"channel_base\": 32768,\n",
            "    \"channel_max\": 512,\n",
            "    \"num_fp16_res\": 4,\n",
            "    \"conv_clamp\": 256\n",
            "  },\n",
            "  \"G_opt_kwargs\": {\n",
            "    \"class_name\": \"torch.optim.Adam\",\n",
            "    \"lr\": 0.002,\n",
            "    \"betas\": [\n",
            "      0,\n",
            "      0.99\n",
            "    ],\n",
            "    \"eps\": 1e-08\n",
            "  },\n",
            "  \"D_opt_kwargs\": {\n",
            "    \"class_name\": \"torch.optim.Adam\",\n",
            "    \"lr\": 0.002,\n",
            "    \"betas\": [\n",
            "      0,\n",
            "      0.99\n",
            "    ],\n",
            "    \"eps\": 1e-08\n",
            "  },\n",
            "  \"loss_kwargs\": {\n",
            "    \"class_name\": \"training.loss.StyleGAN2Loss\",\n",
            "    \"r1_gamma\": 50.0\n",
            "  },\n",
            "  \"total_kimg\": 25000,\n",
            "  \"batch_size\": 4,\n",
            "  \"batch_gpu\": 4,\n",
            "  \"ema_kimg\": 10,\n",
            "  \"ema_rampup\": null,\n",
            "  \"nimg\": 0,\n",
            "  \"ada_target\": 0.6,\n",
            "  \"augment_p\": 0.0,\n",
            "  \"augment_kwargs\": {\n",
            "    \"class_name\": \"training.augment.AugmentPipe\",\n",
            "    \"xflip\": 1,\n",
            "    \"rotate90\": 1,\n",
            "    \"xint\": 1,\n",
            "    \"scale\": 1,\n",
            "    \"rotate\": 1,\n",
            "    \"aniso\": 1,\n",
            "    \"xfrac\": 1\n",
            "  },\n",
            "  \"resume_pkl\": \"./pretrained/minecraft-gan-2020-12-22.pkl\",\n",
            "  \"ada_kimg\": 100,\n",
            "  \"run_dir\": \"./results/00001-00000-mirror-11gb-gpu-gamma50-bg-resumecustom\"\n",
            "}\n",
            "\n",
            "Output directory:   ./results/00001-00000-mirror-11gb-gpu-gamma50-bg-resumecustom\n",
            "Training data:      /content/drive/MyDrive/colab-sg2-ada-pytorch/stylegan2-ada-pytorch/datasets/square_images/00000\n",
            "Training duration:  25000 kimg\n",
            "Number of GPUs:     1\n",
            "Number of images:   509\n",
            "Image resolution:   512\n",
            "Conditional model:  False\n",
            "Dataset x-flips:    True\n",
            "\n",
            "Creating output directory...\n",
            "Launching processes...\n",
            "Loading training set...\n",
            "\n",
            "Num images:  1018\n",
            "Image shape: [3, 512, 512]\n",
            "Label shape: [0]\n",
            "\n",
            "Constructing networks...\n",
            "/usr/local/lib/python3.8/dist-packages/scipy/__init__.py:146: UserWarning: A NumPy version >=1.16.5 and <1.23.0 is required for this version of SciPy (detected version 1.24.0\n",
            "  warnings.warn(f\"A NumPy version >={np_minversion} and <{np_maxversion}\"\n",
            "/usr/local/lib/python3.8/dist-packages/scipy/__init__.py:146: UserWarning: A NumPy version >=1.16.5 and <1.23.0 is required for this version of SciPy (detected version 1.24.0\n",
            "  warnings.warn(f\"A NumPy version >={np_minversion} and <{np_maxversion}\"\n",
            "/usr/local/lib/python3.8/dist-packages/scipy/__init__.py:146: UserWarning: A NumPy version >=1.16.5 and <1.23.0 is required for this version of SciPy (detected version 1.24.0\n",
            "  warnings.warn(f\"A NumPy version >={np_minversion} and <{np_maxversion}\"\n",
            "starting G epochs:  0.0\n",
            "Resuming from \"./pretrained/minecraft-gan-2020-12-22.pkl\"\n",
            "Setting up PyTorch plugin \"bias_act_plugin\"... Done.\n",
            "Setting up PyTorch plugin \"upfirdn2d_plugin\"... Done.\n",
            "\n",
            "Generator             Parameters  Buffers  Output shape        Datatype\n",
            "---                   ---         ---      ---                 ---     \n",
            "mapping.fc0           262656      -        [4, 512]            float32 \n",
            "mapping.fc1           262656      -        [4, 512]            float32 \n",
            "mapping.fc2           262656      -        [4, 512]            float32 \n",
            "mapping.fc3           262656      -        [4, 512]            float32 \n",
            "mapping.fc4           262656      -        [4, 512]            float32 \n",
            "mapping.fc5           262656      -        [4, 512]            float32 \n",
            "mapping.fc6           262656      -        [4, 512]            float32 \n",
            "mapping.fc7           262656      -        [4, 512]            float32 \n",
            "mapping               -           512      [4, 16, 512]        float32 \n",
            "synthesis.b4.conv1    2622465     32       [4, 512, 4, 4]      float32 \n",
            "synthesis.b4.torgb    264195      -        [4, 3, 4, 4]        float32 \n",
            "synthesis.b4:0        8192        16       [4, 512, 4, 4]      float32 \n",
            "synthesis.b4:1        -           -        [4, 512, 4, 4]      float32 \n",
            "synthesis.b8.conv0    2622465     80       [4, 512, 8, 8]      float32 \n",
            "synthesis.b8.conv1    2622465     80       [4, 512, 8, 8]      float32 \n",
            "synthesis.b8.torgb    264195      -        [4, 3, 8, 8]        float32 \n",
            "synthesis.b8:0        -           16       [4, 512, 8, 8]      float32 \n",
            "synthesis.b8:1        -           -        [4, 512, 8, 8]      float32 \n",
            "synthesis.b16.conv0   2622465     272      [4, 512, 16, 16]    float32 \n",
            "synthesis.b16.conv1   2622465     272      [4, 512, 16, 16]    float32 \n",
            "synthesis.b16.torgb   264195      -        [4, 3, 16, 16]      float32 \n",
            "synthesis.b16:0       -           16       [4, 512, 16, 16]    float32 \n",
            "synthesis.b16:1       -           -        [4, 512, 16, 16]    float32 \n",
            "synthesis.b32.conv0   2622465     1040     [4, 512, 32, 32]    float32 \n",
            "synthesis.b32.conv1   2622465     1040     [4, 512, 32, 32]    float32 \n",
            "synthesis.b32.torgb   264195      -        [4, 3, 32, 32]      float32 \n",
            "synthesis.b32:0       -           16       [4, 512, 32, 32]    float32 \n",
            "synthesis.b32:1       -           -        [4, 512, 32, 32]    float32 \n",
            "synthesis.b64.conv0   2622465     4112     [4, 512, 64, 64]    float16 \n",
            "synthesis.b64.conv1   2622465     4112     [4, 512, 64, 64]    float16 \n",
            "synthesis.b64.torgb   264195      -        [4, 3, 64, 64]      float16 \n",
            "synthesis.b64:0       -           16       [4, 512, 64, 64]    float16 \n",
            "synthesis.b64:1       -           -        [4, 512, 64, 64]    float32 \n",
            "synthesis.b128.conv0  1442561     16400    [4, 256, 128, 128]  float16 \n",
            "synthesis.b128.conv1  721409      16400    [4, 256, 128, 128]  float16 \n",
            "synthesis.b128.torgb  132099      -        [4, 3, 128, 128]    float16 \n",
            "synthesis.b128:0      -           16       [4, 256, 128, 128]  float16 \n",
            "synthesis.b128:1      -           -        [4, 256, 128, 128]  float32 \n",
            "synthesis.b256.conv0  426369      65552    [4, 128, 256, 256]  float16 \n",
            "synthesis.b256.conv1  213249      65552    [4, 128, 256, 256]  float16 \n",
            "synthesis.b256.torgb  66051       -        [4, 3, 256, 256]    float16 \n",
            "synthesis.b256:0      -           16       [4, 128, 256, 256]  float16 \n",
            "synthesis.b256:1      -           -        [4, 128, 256, 256]  float32 \n",
            "synthesis.b512.conv0  139457      262160   [4, 64, 512, 512]   float16 \n",
            "synthesis.b512.conv1  69761       262160   [4, 64, 512, 512]   float16 \n",
            "synthesis.b512.torgb  33027       -        [4, 3, 512, 512]    float16 \n",
            "synthesis.b512:0      -           16       [4, 64, 512, 512]   float16 \n",
            "synthesis.b512:1      -           -        [4, 64, 512, 512]   float32 \n",
            "---                   ---         ---      ---                 ---     \n",
            "Total                 30276583    699904   -                   -       \n",
            "\n",
            "\n",
            "Discriminator  Parameters  Buffers  Output shape        Datatype\n",
            "---            ---         ---      ---                 ---     \n",
            "b512.fromrgb   256         16       [4, 64, 512, 512]   float16 \n",
            "b512.skip      8192        16       [4, 128, 256, 256]  float16 \n",
            "b512.conv0     36928       16       [4, 64, 512, 512]   float16 \n",
            "b512.conv1     73856       16       [4, 128, 256, 256]  float16 \n",
            "b512           -           16       [4, 128, 256, 256]  float16 \n",
            "b256.skip      32768       16       [4, 256, 128, 128]  float16 \n",
            "b256.conv0     147584      16       [4, 128, 256, 256]  float16 \n",
            "b256.conv1     295168      16       [4, 256, 128, 128]  float16 \n",
            "b256           -           16       [4, 256, 128, 128]  float16 \n",
            "b128.skip      131072      16       [4, 512, 64, 64]    float16 \n",
            "b128.conv0     590080      16       [4, 256, 128, 128]  float16 \n",
            "b128.conv1     1180160     16       [4, 512, 64, 64]    float16 \n",
            "b128           -           16       [4, 512, 64, 64]    float16 \n",
            "b64.skip       262144      16       [4, 512, 32, 32]    float16 \n",
            "b64.conv0      2359808     16       [4, 512, 64, 64]    float16 \n",
            "b64.conv1      2359808     16       [4, 512, 32, 32]    float16 \n",
            "b64            -           16       [4, 512, 32, 32]    float16 \n",
            "b32.skip       262144      16       [4, 512, 16, 16]    float32 \n",
            "b32.conv0      2359808     16       [4, 512, 32, 32]    float32 \n",
            "b32.conv1      2359808     16       [4, 512, 16, 16]    float32 \n",
            "b32            -           16       [4, 512, 16, 16]    float32 \n",
            "b16.skip       262144      16       [4, 512, 8, 8]      float32 \n",
            "b16.conv0      2359808     16       [4, 512, 16, 16]    float32 \n",
            "b16.conv1      2359808     16       [4, 512, 8, 8]      float32 \n",
            "b16            -           16       [4, 512, 8, 8]      float32 \n",
            "b8.skip        262144      16       [4, 512, 4, 4]      float32 \n",
            "b8.conv0       2359808     16       [4, 512, 8, 8]      float32 \n",
            "b8.conv1       2359808     16       [4, 512, 4, 4]      float32 \n",
            "b8             -           16       [4, 512, 4, 4]      float32 \n",
            "b4.mbstd       -           -        [4, 513, 4, 4]      float32 \n",
            "b4.conv        2364416     16       [4, 512, 4, 4]      float32 \n",
            "b4.fc          4194816     -        [4, 512]            float32 \n",
            "b4.out         513         -        [4, 1]              float32 \n",
            "---            ---         ---      ---                 ---     \n",
            "Total          28982849    480      -                   -       \n",
            "\n",
            "Setting up augmentation...\n",
            "Distributing across 1 GPUs...\n",
            "Setting up training phases...\n",
            "Exporting sample images...\n",
            "Initializing logs...\n",
            "Training for 25000 kimg...\n",
            "\n",
            "tick 0     kimg 0.0      time 1m 33s       sec/tick 10.6    sec/kimg 2642.28 maintenance 82.9   cpumem 5.40   gpumem 11.12  augment 0.000\n",
            "tick 1     kimg 4.0      time 18m 38s      sec/tick 1018.9  sec/kimg 254.72  maintenance 5.6    cpumem 5.50   gpumem 4.20   augment 0.030\n",
            "tick 2     kimg 8.0      time 36m 03s      sec/tick 1038.3  sec/kimg 259.58  maintenance 6.8    cpumem 5.78   gpumem 4.25   augment 0.062\n",
            "tick 3     kimg 12.0     time 53m 34s      sec/tick 1045.1  sec/kimg 261.29  maintenance 6.0    cpumem 6.12   gpumem 4.22   augment 0.092\n",
            "tick 4     kimg 16.0     time 1h 11m 05s   sec/tick 1045.0  sec/kimg 261.26  maintenance 5.8    cpumem 5.78   gpumem 4.29   augment 0.125\n",
            "tick 5     kimg 20.0     time 1h 28m 36s   sec/tick 1045.1  sec/kimg 261.28  maintenance 5.8    cpumem 5.50   gpumem 4.27   augment 0.155\n",
            "tick 6     kimg 24.0     time 1h 46m 09s   sec/tick 1046.2  sec/kimg 261.54  maintenance 6.6    cpumem 5.88   gpumem 4.25   augment 0.185\n",
            "tick 7     kimg 28.0     time 2h 03m 42s   sec/tick 1046.9  sec/kimg 261.72  maintenance 6.2    cpumem 5.90   gpumem 4.29   augment 0.213\n",
            "tick 8     kimg 32.0     time 2h 21m 01s   sec/tick 1033.3  sec/kimg 258.34  maintenance 6.1    cpumem 5.76   gpumem 4.31   augment 0.246\n"
          ]
        }
      ],
      "source": [
        "!python train.py --gpus=1 --cfg=$config --metrics=None --outdir=./results --data=$dataset_path --snap=$snapshot_count --resume=$resume_from --augpipe=$augs --initstrength=$aug_strength --gamma=$gamma_value --mirror=$mirror_x --mirrory=False --nkimg=$train_count"
      ]
    },
    {
      "cell_type": "code",
      "execution_count": null,
      "metadata": {
        "colab": {
          "base_uri": "https://localhost:8080/"
        },
        "id": "mnRJ_bNE8Ojl",
        "outputId": "9ab769e7-c076-4870-b97f-889cdd169629"
      },
      "outputs": [
        {
          "name": "stdout",
          "output_type": "stream",
          "text": [
            "generate.py:59: SyntaxWarning: \"is not\" with a literal. Did you mean \"!=\"?\n",
            "  elif(len(seeds) is not 3):\n",
            "Traceback (most recent call last):\n",
            "  File \"generate.py\", line 25, in <module>\n",
            "    from opensimplex import OpenSimplex\n",
            "  File \"/usr/local/lib/python3.8/dist-packages/opensimplex/__init__.py\", line 4, in <module>\n",
            "    from .api import *\n",
            "  File \"/usr/local/lib/python3.8/dist-packages/opensimplex/api.py\", line 2, in <module>\n",
            "    from .internals import _init, _noise2, _noise3, _noise4, _noise2a, _noise3a, _noise4a\n",
            "  File \"/usr/local/lib/python3.8/dist-packages/opensimplex/internals.py\", line 9, in <module>\n",
            "    from numba import njit, prange\n",
            "  File \"/usr/local/lib/python3.8/dist-packages/numba/__init__.py\", line 42, in <module>\n",
            "    from numba.np.ufunc import (vectorize, guvectorize, threading_layer,\n",
            "  File \"/usr/local/lib/python3.8/dist-packages/numba/np/ufunc/__init__.py\", line 3, in <module>\n",
            "    from numba.np.ufunc.decorators import Vectorize, GUVectorize, vectorize, guvectorize\n",
            "  File \"/usr/local/lib/python3.8/dist-packages/numba/np/ufunc/decorators.py\", line 3, in <module>\n",
            "    from numba.np.ufunc import _internal\n",
            "SystemError: initialization of _internal failed without raising an exception\n"
          ]
        }
      ],
      "source": [
        "!python generate.py --outdir=/content/out/images/ --trunc=0.8 --seeds=10 --network='./pretrained/minecraft-gan-2020-12-22.pkl'"
      ]
    }
  ],
  "metadata": {
    "accelerator": "GPU",
    "colab": {
      "provenance": [],
      "authorship_tag": "ABX9TyMqGQ4dGWj12JIpC0twSum5",
      "include_colab_link": true
    },
    "gpuClass": "standard",
    "kernelspec": {
      "display_name": "Python 3",
      "name": "python3"
    },
    "language_info": {
      "name": "python"
    },
    "widgets": {
      "application/vnd.jupyter.widget-state+json": {
        "07b4dfcbfefe40fc850b17007cda9d6b": {
          "model_module": "@jupyter-widgets/controls",
          "model_name": "HBoxModel",
          "model_module_version": "1.5.0",
          "state": {
            "_dom_classes": [],
            "_model_module": "@jupyter-widgets/controls",
            "_model_module_version": "1.5.0",
            "_model_name": "HBoxModel",
            "_view_count": null,
            "_view_module": "@jupyter-widgets/controls",
            "_view_module_version": "1.5.0",
            "_view_name": "HBoxView",
            "box_style": "",
            "children": [
              "IPY_MODEL_fe7f1f4b2adc46ceb7351d84d2f6dd57",
              "IPY_MODEL_36875bd5e14e4a4f9b80abf01ac4ce71",
              "IPY_MODEL_ddcfad2697b3490d96f4855880e9e8d6"
            ],
            "layout": "IPY_MODEL_6ab6347687ed43bf907954da65543f63"
          }
        },
        "fe7f1f4b2adc46ceb7351d84d2f6dd57": {
          "model_module": "@jupyter-widgets/controls",
          "model_name": "HTMLModel",
          "model_module_version": "1.5.0",
          "state": {
            "_dom_classes": [],
            "_model_module": "@jupyter-widgets/controls",
            "_model_module_version": "1.5.0",
            "_model_name": "HTMLModel",
            "_view_count": null,
            "_view_module": "@jupyter-widgets/controls",
            "_view_module_version": "1.5.0",
            "_view_name": "HTMLView",
            "description": "",
            "description_tooltip": null,
            "layout": "IPY_MODEL_55dba833be0e49cd9e30af6b5c4f8bba",
            "placeholder": "​",
            "style": "IPY_MODEL_f974f189dade4f489145d73234ae2981",
            "value": "100%"
          }
        },
        "36875bd5e14e4a4f9b80abf01ac4ce71": {
          "model_module": "@jupyter-widgets/controls",
          "model_name": "FloatProgressModel",
          "model_module_version": "1.5.0",
          "state": {
            "_dom_classes": [],
            "_model_module": "@jupyter-widgets/controls",
            "_model_module_version": "1.5.0",
            "_model_name": "FloatProgressModel",
            "_view_count": null,
            "_view_module": "@jupyter-widgets/controls",
            "_view_module_version": "1.5.0",
            "_view_name": "ProgressView",
            "bar_style": "success",
            "description": "",
            "description_tooltip": null,
            "layout": "IPY_MODEL_a5043bb33f054284a44bcff1bc7cfad8",
            "max": 509,
            "min": 0,
            "orientation": "horizontal",
            "style": "IPY_MODEL_4dadff5f15c74b66a7daba4fd76b506f",
            "value": 509
          }
        },
        "ddcfad2697b3490d96f4855880e9e8d6": {
          "model_module": "@jupyter-widgets/controls",
          "model_name": "HTMLModel",
          "model_module_version": "1.5.0",
          "state": {
            "_dom_classes": [],
            "_model_module": "@jupyter-widgets/controls",
            "_model_module_version": "1.5.0",
            "_model_name": "HTMLModel",
            "_view_count": null,
            "_view_module": "@jupyter-widgets/controls",
            "_view_module_version": "1.5.0",
            "_view_name": "HTMLView",
            "description": "",
            "description_tooltip": null,
            "layout": "IPY_MODEL_b1a95613e55740418ae50a453e56b96d",
            "placeholder": "​",
            "style": "IPY_MODEL_08317e4bd7bc49ecb5c0345daf20b69b",
            "value": " 509/509 [00:00&lt;00:00, 6814.48it/s]"
          }
        },
        "6ab6347687ed43bf907954da65543f63": {
          "model_module": "@jupyter-widgets/base",
          "model_name": "LayoutModel",
          "model_module_version": "1.2.0",
          "state": {
            "_model_module": "@jupyter-widgets/base",
            "_model_module_version": "1.2.0",
            "_model_name": "LayoutModel",
            "_view_count": null,
            "_view_module": "@jupyter-widgets/base",
            "_view_module_version": "1.2.0",
            "_view_name": "LayoutView",
            "align_content": null,
            "align_items": null,
            "align_self": null,
            "border": null,
            "bottom": null,
            "display": null,
            "flex": null,
            "flex_flow": null,
            "grid_area": null,
            "grid_auto_columns": null,
            "grid_auto_flow": null,
            "grid_auto_rows": null,
            "grid_column": null,
            "grid_gap": null,
            "grid_row": null,
            "grid_template_areas": null,
            "grid_template_columns": null,
            "grid_template_rows": null,
            "height": null,
            "justify_content": null,
            "justify_items": null,
            "left": null,
            "margin": null,
            "max_height": null,
            "max_width": null,
            "min_height": null,
            "min_width": null,
            "object_fit": null,
            "object_position": null,
            "order": null,
            "overflow": null,
            "overflow_x": null,
            "overflow_y": null,
            "padding": null,
            "right": null,
            "top": null,
            "visibility": null,
            "width": null
          }
        },
        "55dba833be0e49cd9e30af6b5c4f8bba": {
          "model_module": "@jupyter-widgets/base",
          "model_name": "LayoutModel",
          "model_module_version": "1.2.0",
          "state": {
            "_model_module": "@jupyter-widgets/base",
            "_model_module_version": "1.2.0",
            "_model_name": "LayoutModel",
            "_view_count": null,
            "_view_module": "@jupyter-widgets/base",
            "_view_module_version": "1.2.0",
            "_view_name": "LayoutView",
            "align_content": null,
            "align_items": null,
            "align_self": null,
            "border": null,
            "bottom": null,
            "display": null,
            "flex": null,
            "flex_flow": null,
            "grid_area": null,
            "grid_auto_columns": null,
            "grid_auto_flow": null,
            "grid_auto_rows": null,
            "grid_column": null,
            "grid_gap": null,
            "grid_row": null,
            "grid_template_areas": null,
            "grid_template_columns": null,
            "grid_template_rows": null,
            "height": null,
            "justify_content": null,
            "justify_items": null,
            "left": null,
            "margin": null,
            "max_height": null,
            "max_width": null,
            "min_height": null,
            "min_width": null,
            "object_fit": null,
            "object_position": null,
            "order": null,
            "overflow": null,
            "overflow_x": null,
            "overflow_y": null,
            "padding": null,
            "right": null,
            "top": null,
            "visibility": null,
            "width": null
          }
        },
        "f974f189dade4f489145d73234ae2981": {
          "model_module": "@jupyter-widgets/controls",
          "model_name": "DescriptionStyleModel",
          "model_module_version": "1.5.0",
          "state": {
            "_model_module": "@jupyter-widgets/controls",
            "_model_module_version": "1.5.0",
            "_model_name": "DescriptionStyleModel",
            "_view_count": null,
            "_view_module": "@jupyter-widgets/base",
            "_view_module_version": "1.2.0",
            "_view_name": "StyleView",
            "description_width": ""
          }
        },
        "a5043bb33f054284a44bcff1bc7cfad8": {
          "model_module": "@jupyter-widgets/base",
          "model_name": "LayoutModel",
          "model_module_version": "1.2.0",
          "state": {
            "_model_module": "@jupyter-widgets/base",
            "_model_module_version": "1.2.0",
            "_model_name": "LayoutModel",
            "_view_count": null,
            "_view_module": "@jupyter-widgets/base",
            "_view_module_version": "1.2.0",
            "_view_name": "LayoutView",
            "align_content": null,
            "align_items": null,
            "align_self": null,
            "border": null,
            "bottom": null,
            "display": null,
            "flex": null,
            "flex_flow": null,
            "grid_area": null,
            "grid_auto_columns": null,
            "grid_auto_flow": null,
            "grid_auto_rows": null,
            "grid_column": null,
            "grid_gap": null,
            "grid_row": null,
            "grid_template_areas": null,
            "grid_template_columns": null,
            "grid_template_rows": null,
            "height": null,
            "justify_content": null,
            "justify_items": null,
            "left": null,
            "margin": null,
            "max_height": null,
            "max_width": null,
            "min_height": null,
            "min_width": null,
            "object_fit": null,
            "object_position": null,
            "order": null,
            "overflow": null,
            "overflow_x": null,
            "overflow_y": null,
            "padding": null,
            "right": null,
            "top": null,
            "visibility": null,
            "width": null
          }
        },
        "4dadff5f15c74b66a7daba4fd76b506f": {
          "model_module": "@jupyter-widgets/controls",
          "model_name": "ProgressStyleModel",
          "model_module_version": "1.5.0",
          "state": {
            "_model_module": "@jupyter-widgets/controls",
            "_model_module_version": "1.5.0",
            "_model_name": "ProgressStyleModel",
            "_view_count": null,
            "_view_module": "@jupyter-widgets/base",
            "_view_module_version": "1.2.0",
            "_view_name": "StyleView",
            "bar_color": null,
            "description_width": ""
          }
        },
        "b1a95613e55740418ae50a453e56b96d": {
          "model_module": "@jupyter-widgets/base",
          "model_name": "LayoutModel",
          "model_module_version": "1.2.0",
          "state": {
            "_model_module": "@jupyter-widgets/base",
            "_model_module_version": "1.2.0",
            "_model_name": "LayoutModel",
            "_view_count": null,
            "_view_module": "@jupyter-widgets/base",
            "_view_module_version": "1.2.0",
            "_view_name": "LayoutView",
            "align_content": null,
            "align_items": null,
            "align_self": null,
            "border": null,
            "bottom": null,
            "display": null,
            "flex": null,
            "flex_flow": null,
            "grid_area": null,
            "grid_auto_columns": null,
            "grid_auto_flow": null,
            "grid_auto_rows": null,
            "grid_column": null,
            "grid_gap": null,
            "grid_row": null,
            "grid_template_areas": null,
            "grid_template_columns": null,
            "grid_template_rows": null,
            "height": null,
            "justify_content": null,
            "justify_items": null,
            "left": null,
            "margin": null,
            "max_height": null,
            "max_width": null,
            "min_height": null,
            "min_width": null,
            "object_fit": null,
            "object_position": null,
            "order": null,
            "overflow": null,
            "overflow_x": null,
            "overflow_y": null,
            "padding": null,
            "right": null,
            "top": null,
            "visibility": null,
            "width": null
          }
        },
        "08317e4bd7bc49ecb5c0345daf20b69b": {
          "model_module": "@jupyter-widgets/controls",
          "model_name": "DescriptionStyleModel",
          "model_module_version": "1.5.0",
          "state": {
            "_model_module": "@jupyter-widgets/controls",
            "_model_module_version": "1.5.0",
            "_model_name": "DescriptionStyleModel",
            "_view_count": null,
            "_view_module": "@jupyter-widgets/base",
            "_view_module_version": "1.2.0",
            "_view_name": "StyleView",
            "description_width": ""
          }
        }
      }
    }
  },
  "nbformat": 4,
  "nbformat_minor": 0
}